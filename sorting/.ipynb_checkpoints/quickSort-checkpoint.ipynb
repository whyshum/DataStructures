{
 "cells": [
  {
   "cell_type": "code",
   "execution_count": 3,
   "id": "827b0a47",
   "metadata": {},
   "outputs": [],
   "source": [
    "def quickSort(lis):\n",
    "    if len(lis)<=1:\n",
    "        return lis\n",
    "    else:\n",
    "        pivot=lis.pop()\n",
    "        \n",
    "    left=[]\n",
    "    right=[]\n",
    "    for item in lis:\n",
    "        if item<=pivot:\n",
    "            left.append(item)\n",
    "        else:\n",
    "            right.append(item)\n",
    "            \n",
    "    return quickSort(left)+[pivot]+quickSort(right)\n",
    "    "
   ]
  },
  {
   "cell_type": "code",
   "execution_count": 5,
   "id": "7ed29c1a",
   "metadata": {},
   "outputs": [
    {
     "data": {
      "text/plain": [
       "[0, 1, 2, 3, 4, 4, 5, 5, 6, 7, 8, 9]"
      ]
     },
     "execution_count": 5,
     "metadata": {},
     "output_type": "execute_result"
    }
   ],
   "source": [
    "lis=[1,0,2,9,3,4,5,8,4,7,5,6]\n",
    "quickSort(lis)"
   ]
  },
  {
   "cell_type": "code",
   "execution_count": null,
   "id": "800e7336",
   "metadata": {},
   "outputs": [],
   "source": []
  }
 ],
 "metadata": {
  "kernelspec": {
   "display_name": "Python 3",
   "language": "python",
   "name": "python3"
  },
  "language_info": {
   "codemirror_mode": {
    "name": "ipython",
    "version": 3
   },
   "file_extension": ".py",
   "mimetype": "text/x-python",
   "name": "python",
   "nbconvert_exporter": "python",
   "pygments_lexer": "ipython3",
   "version": "3.8.8"
  }
 },
 "nbformat": 4,
 "nbformat_minor": 5
}
