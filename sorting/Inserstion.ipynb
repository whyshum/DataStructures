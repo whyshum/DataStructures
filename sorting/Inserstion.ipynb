{
 "cells": [
  {
   "cell_type": "code",
   "execution_count": 9,
   "id": "deda0050",
   "metadata": {},
   "outputs": [],
   "source": [
    "#insertion sort without inserting key element\n",
    "def insertionsort(nums):\n",
    "    for i in range(1,len(nums)):\n",
    "        for j in range(i,0,-1):\n",
    "            if nums[j]<nums[j-1]:\n",
    "                nums[j],nums[j-1]=nums[j-1],nums[j]\n",
    "    return nums"
   ]
  },
  {
   "cell_type": "code",
   "execution_count": 10,
   "id": "f38dfbe7",
   "metadata": {},
   "outputs": [
    {
     "data": {
      "text/plain": [
       "[2, 3, 6, 8]"
      ]
     },
     "execution_count": 10,
     "metadata": {},
     "output_type": "execute_result"
    }
   ],
   "source": [
    "nums=[8,3,6,2]\n",
    "insertionsort(nums)"
   ]
  },
  {
   "cell_type": "code",
   "execution_count": null,
   "id": "2edaa1ea",
   "metadata": {},
   "outputs": [],
   "source": [
    "#insertion sort with key element\n"
   ]
  }
 ],
 "metadata": {
  "kernelspec": {
   "display_name": "Python 3",
   "language": "python",
   "name": "python3"
  },
  "language_info": {
   "codemirror_mode": {
    "name": "ipython",
    "version": 3
   },
   "file_extension": ".py",
   "mimetype": "text/x-python",
   "name": "python",
   "nbconvert_exporter": "python",
   "pygments_lexer": "ipython3",
   "version": "3.8.8"
  }
 },
 "nbformat": 4,
 "nbformat_minor": 5
}
