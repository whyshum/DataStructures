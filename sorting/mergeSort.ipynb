{
 "cells": [
  {
   "cell_type": "code",
   "execution_count": 7,
   "id": "f0e88042",
   "metadata": {},
   "outputs": [],
   "source": [
    "def merge(left,right):\n",
    "    i=0\n",
    "    j=0\n",
    "    result=[]\n",
    "    while i<len(left) and j<len(right):\n",
    "        if left[i]<=right[j]:\n",
    "            result.append(left[i])\n",
    "            i+=1\n",
    "        else:\n",
    "            result.append(right[j])\n",
    "            j+=1\n",
    "    result+=left[i:]\n",
    "    result+=right[j:]\n",
    "    return result\n"
   ]
  },
  {
   "cell_type": "code",
   "execution_count": 8,
   "id": "851652dc",
   "metadata": {},
   "outputs": [],
   "source": [
    "def mergeSort(lis):\n",
    "    if(len(lis)<=1):\n",
    "        return lis\n",
    "    mid=int(len(lis)/2)\n",
    "    right=mergeSort(lis[mid:])\n",
    "    left=mergeSort(lis[:mid])\n",
    "    return merge(left,right)\n",
    "    "
   ]
  },
  {
   "cell_type": "code",
   "execution_count": 9,
   "id": "fcc057d5",
   "metadata": {},
   "outputs": [
    {
     "data": {
      "text/plain": [
       "[0, 1, 2, 3, 4, 5, 6, 7, 8, 9]"
      ]
     },
     "execution_count": 9,
     "metadata": {},
     "output_type": "execute_result"
    }
   ],
   "source": [
    "lis=[1,3,5,7,9,0,8,6,4,2]\n",
    "mergeSort(lis)"
   ]
  },
  {
   "cell_type": "code",
   "execution_count": null,
   "id": "2c7f431c",
   "metadata": {},
   "outputs": [],
   "source": []
  }
 ],
 "metadata": {
  "kernelspec": {
   "display_name": "Python 3",
   "language": "python",
   "name": "python3"
  },
  "language_info": {
   "codemirror_mode": {
    "name": "ipython",
    "version": 3
   },
   "file_extension": ".py",
   "mimetype": "text/x-python",
   "name": "python",
   "nbconvert_exporter": "python",
   "pygments_lexer": "ipython3",
   "version": "3.8.8"
  }
 },
 "nbformat": 4,
 "nbformat_minor": 5
}
