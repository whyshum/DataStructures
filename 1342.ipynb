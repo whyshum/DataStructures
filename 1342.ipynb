{
 "cells": [
  {
   "cell_type": "code",
   "execution_count": 5,
   "id": "90b9147f",
   "metadata": {},
   "outputs": [],
   "source": [
    "class Solution(object):\n",
    "    def numberOfSteps(self, num):\n",
    "        c=0\n",
    "        while(num>=1):\n",
    "            if num%2==0:\n",
    "                c+=1\n",
    "                num=num/2\n",
    "            else:\n",
    "                c+=1\n",
    "                num=num-1\n",
    "                \n",
    "        return c  "
   ]
  },
  {
   "cell_type": "code",
   "execution_count": 6,
   "id": "56d51519",
   "metadata": {},
   "outputs": [
    {
     "data": {
      "text/plain": [
       "6"
      ]
     },
     "execution_count": 6,
     "metadata": {},
     "output_type": "execute_result"
    }
   ],
   "source": [
    "numberOfSteps(14)"
   ]
  },
  {
   "cell_type": "code",
   "execution_count": null,
   "id": "d20f63fb",
   "metadata": {},
   "outputs": [],
   "source": []
  }
 ],
 "metadata": {
  "kernelspec": {
   "display_name": "Python 3",
   "language": "python",
   "name": "python3"
  },
  "language_info": {
   "codemirror_mode": {
    "name": "ipython",
    "version": 3
   },
   "file_extension": ".py",
   "mimetype": "text/x-python",
   "name": "python",
   "nbconvert_exporter": "python",
   "pygments_lexer": "ipython3",
   "version": "3.8.8"
  }
 },
 "nbformat": 4,
 "nbformat_minor": 5
}
