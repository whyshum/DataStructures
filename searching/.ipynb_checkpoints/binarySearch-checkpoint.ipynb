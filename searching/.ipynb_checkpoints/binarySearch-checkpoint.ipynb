{
 "cells": [
  {
   "cell_type": "code",
   "execution_count": 14,
   "id": "7b735b04",
   "metadata": {},
   "outputs": [],
   "source": [
    "def binarySearch(nums,num):\n",
    "    start=0\n",
    "    high=len(nums)\n",
    "    \n",
    "    for i in range(0,high):\n",
    "        mid=int((start+high)/2)\n",
    "        \n",
    "        if nums[i]==num:\n",
    "            return i\n",
    "        elif nums[i]<=nums[mid]:\n",
    "            high=mid\n",
    "        else:\n",
    "            low=mid+1\n",
    "        "
   ]
  },
  {
   "cell_type": "code",
   "execution_count": 28,
   "id": "e29e14e0",
   "metadata": {},
   "outputs": [
    {
     "name": "stdout",
     "output_type": "stream",
     "text": [
      "enter a number to search: 3\n",
      "number found at 2\n"
     ]
    }
   ],
   "source": [
    "nums=[1,2,3,4,5,6,7,8,9,10]\n",
    "num=int(input(\"enter a number to search: \"))\n",
    "a=binarySearch(nums,num)\n",
    "if a:\n",
    "    print(\"number found at {}\".format(a))\n",
    "else:\n",
    "    print(\"number not found\")"
   ]
  },
  {
   "cell_type": "code",
   "execution_count": null,
   "id": "f72991d1",
   "metadata": {},
   "outputs": [],
   "source": []
  },
  {
   "cell_type": "code",
   "execution_count": null,
   "id": "b39c5dd3",
   "metadata": {},
   "outputs": [],
   "source": []
  }
 ],
 "metadata": {
  "kernelspec": {
   "display_name": "Python 3",
   "language": "python",
   "name": "python3"
  },
  "language_info": {
   "codemirror_mode": {
    "name": "ipython",
    "version": 3
   },
   "file_extension": ".py",
   "mimetype": "text/x-python",
   "name": "python",
   "nbconvert_exporter": "python",
   "pygments_lexer": "ipython3",
   "version": "3.8.8"
  }
 },
 "nbformat": 4,
 "nbformat_minor": 5
}
