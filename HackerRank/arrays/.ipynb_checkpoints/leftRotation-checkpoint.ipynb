{
 "cells": [
  {
   "cell_type": "code",
   "execution_count": 5,
   "id": "e7ab4ca0",
   "metadata": {},
   "outputs": [],
   "source": [
    "def rotateLeft(d, arr):\n",
    "    # Write your code here\n",
    "    arr1=arr[0:d]\n",
    "    arr2=arr[d:]\n",
    "    return arr2+arr1"
   ]
  },
  {
   "cell_type": "code",
   "execution_count": 6,
   "id": "245ea17d",
   "metadata": {},
   "outputs": [
    {
     "data": {
      "text/plain": [
       "[3, 4, 5, 1, 2]"
      ]
     },
     "execution_count": 6,
     "metadata": {},
     "output_type": "execute_result"
    }
   ],
   "source": [
    "arr=[1,2,3,4,5]\n",
    "rotateLeft(2,arr)"
   ]
  },
  {
   "cell_type": "code",
   "execution_count": null,
   "id": "3830e945",
   "metadata": {},
   "outputs": [],
   "source": []
  }
 ],
 "metadata": {
  "kernelspec": {
   "display_name": "Python 3",
   "language": "python",
   "name": "python3"
  },
  "language_info": {
   "codemirror_mode": {
    "name": "ipython",
    "version": 3
   },
   "file_extension": ".py",
   "mimetype": "text/x-python",
   "name": "python",
   "nbconvert_exporter": "python",
   "pygments_lexer": "ipython3",
   "version": "3.8.8"
  }
 },
 "nbformat": 4,
 "nbformat_minor": 5
}
