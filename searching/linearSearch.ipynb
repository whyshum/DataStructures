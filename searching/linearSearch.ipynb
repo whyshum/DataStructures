{
 "cells": [
  {
   "cell_type": "code",
   "execution_count": 1,
   "id": "a421846b",
   "metadata": {},
   "outputs": [],
   "source": [
    "def linearSearch(nums,num):\n",
    "    for index,item in enumerate(nums):\n",
    "        if nums[index]==num:\n",
    "            return index\n",
    "    return -1"
   ]
  },
  {
   "cell_type": "code",
   "execution_count": 4,
   "id": "88e704fc",
   "metadata": {},
   "outputs": [
    {
     "name": "stdout",
     "output_type": "stream",
     "text": [
      "enter a number to search: 11\n",
      "number found at 8\n"
     ]
    }
   ],
   "source": [
    "nums=[1,2,3,4,5,21,7,8,11,12,10]\n",
    "num=int(input(\"enter a number to search: \"))\n",
    "result = linearSearch(nums,num)\n",
    "if result!=-1:\n",
    "    print(\"number found at {}\".format(result))\n",
    "    \n",
    "else:\n",
    "    print(\"number not found\")"
   ]
  },
  {
   "cell_type": "code",
   "execution_count": null,
   "id": "fbcd606c",
   "metadata": {},
   "outputs": [],
   "source": []
  }
 ],
 "metadata": {
  "kernelspec": {
   "display_name": "Python 3",
   "language": "python",
   "name": "python3"
  },
  "language_info": {
   "codemirror_mode": {
    "name": "ipython",
    "version": 3
   },
   "file_extension": ".py",
   "mimetype": "text/x-python",
   "name": "python",
   "nbconvert_exporter": "python",
   "pygments_lexer": "ipython3",
   "version": "3.8.8"
  }
 },
 "nbformat": 4,
 "nbformat_minor": 5
}
